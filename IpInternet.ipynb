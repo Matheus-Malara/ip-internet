{
  "nbformat": 4,
  "nbformat_minor": 0,
  "metadata": {
    "colab": {
      "provenance": [],
      "authorship_tag": "ABX9TyP+WhaRlbNmKCKbTStjciTn",
      "include_colab_link": true
    },
    "kernelspec": {
      "name": "python3",
      "display_name": "Python 3"
    },
    "language_info": {
      "name": "python"
    }
  },
  "cells": [
    {
      "cell_type": "markdown",
      "metadata": {
        "id": "view-in-github",
        "colab_type": "text"
      },
      "source": [
        "<a href=\"https://colab.research.google.com/github/Matheus-Malara/ip-internet/blob/main/IpInternet.ipynb\" target=\"_parent\"><img src=\"https://colab.research.google.com/assets/colab-badge.svg\" alt=\"Open In Colab\"/></a>"
      ]
    },
    {
      "cell_type": "code",
      "execution_count": 3,
      "metadata": {
        "colab": {
          "base_uri": "https://localhost:8080/"
        },
        "id": "zxAkJ6ayZ7dZ",
        "outputId": "397bc296-fd20-41aa-be8d-19168827180b"
      },
      "outputs": [
        {
          "output_type": "stream",
          "name": "stdout",
          "text": [
            "Pinging 10.1.1.16...\n",
            "10.1.1.16 não está respondendo. Possível ponto de falha.\n"
          ]
        }
      ],
      "source": [
        "import os\n",
        "\n",
        "# Lista de IPs na rede para verificar\n",
        "ips = [\n",
        "    \"10.1.1.16\",\n",
        "    \"10.1.1.15\",\n",
        "    \"10.1.1.75\",\n",
        "    \"10.1.0.75\",\n",
        "    \"10.1.0.2\",\n",
        "    \"10.1.0.1\"\n",
        "]\n",
        "\n",
        "def ping(ip):\n",
        "    print(f\"Pinging {ip}...\")\n",
        "    response = os.system(f\"ping -c 1 {ip} > /dev/null 2>&1\")\n",
        "    if response == 0:\n",
        "        return True\n",
        "    else:\n",
        "        return False\n",
        "\n",
        "def verificar_rede(ips):\n",
        "    for ip in ips:\n",
        "        if ping(ip):\n",
        "            print(f\"{ip} está respondendo.\")\n",
        "        else:\n",
        "            print(f\"{ip} não está respondendo. Possível ponto de falha.\")\n",
        "            break  # Para o processo no primeiro ponto de falha encontrado\n",
        "\n",
        "verificar_rede(ips)"
      ]
    }
  ]
}